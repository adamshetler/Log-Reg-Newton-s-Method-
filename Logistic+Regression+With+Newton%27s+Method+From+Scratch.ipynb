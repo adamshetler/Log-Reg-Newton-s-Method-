{
 "cells": [
  {
   "cell_type": "code",
   "execution_count": 1,
   "metadata": {
    "collapsed": true
   },
   "outputs": [],
   "source": [
    "import mglearn\n",
    "import matplotlib.pyplot as plt\n",
    "import pandas as pd \n",
    "import numpy as np\n",
    "from IPython.display import display \n",
    "from sklearn.linear_model import LogisticRegression\n",
    "from sklearn.svm import LinearSVC\n",
    "from numpy.linalg import inv"
   ]
  },
  {
   "cell_type": "code",
   "execution_count": 343,
   "metadata": {},
   "outputs": [
    {
     "data": {
      "image/png": "[encoded data removed]",
      "text/plain": [
       "<matplotlib.figure.Figure at 0xdbacc88>"
      ]
     },
     "metadata": {},
     "output_type": "display_data"
    }
   ],
   "source": [
    "#import dataset to use for classification \n",
    "X,y = mglearn.datasets.make_forge()\n",
    "#scatterplot of data \n",
    "mglearn.discrete_scatter(X[:,0],X[:,1],y)\n",
    "plt.xlabel(\"Feature 1\")\n",
    "plt.ylabel(\"Feature 2\")\n",
    "plt.legend()\n",
    "plt.show()"
   ]
  },
  {
   "cell_type": "code",
   "execution_count": 344,
   "metadata": {},
   "outputs": [],
   "source": [
    "#m is the number of training examples\n",
    "m = (X[:,1]).size\n",
    "#create a column of ones and add it to the X-matrix \n",
    "col_ones = np.ones((m,1))\n",
    "X_new = np.append(col_ones,X,axis=1)\n",
    "#n is the number of features \n",
    "n = len(X_new[1,:])\n",
    "#convert labels y to a matrix- this makes matrix computations easier \n",
    "y_new = np.asmatrix(y).transpose()\n",
    "#create Theta matrix which will serve as our parameters we will learn, initialized with all zeros \n",
    "Theta = np.zeros((n,1))\n",
    "#create empty matrix J_history- this will be used to keep track of the cost during gradient descent "
   ]
  },
  {
   "cell_type": "code",
   "execution_count": 345,
   "metadata": {
    "collapsed": true
   },
   "outputs": [],
   "source": [
    "#create sigmoid function\n",
    "def sigmoid(z):\n",
    "    return 1./(1+np.exp(-z))"
   ]
  },
  {
   "cell_type": "code",
   "execution_count": 378,
   "metadata": {},
   "outputs": [],
   "source": [
    "#this function computes the Hessian matrix for a given Theta \n",
    "def Hess_comp(X,y,thet):\n",
    "    Hessian = np.zeros((len(X[0,:]),len(X[0,:])))\n",
    "    for i in range(0,len(X)):\n",
    "        Hessian+=(1./X[:,0].size)*((sigmoid(X[i,:].dot(thet))*(1-sigmoid(X[i,:].dot(thet))))[0]*(np.asmatrix(X[i,:]).T)*(X[i,:]))\n",
    "    return Hessian"
   ]
  },
  {
   "cell_type": "code",
   "execution_count": 379,
   "metadata": {
    "collapsed": true
   },
   "outputs": [],
   "source": [
    "#This function computes the gradient vector for a given Theta \n",
    "def Grad_comp(X,y,thet):\n",
    "    gradient = np.zeros((len(X[0,:]),1))\n",
    "    for i in range(0,len(X)):\n",
    "        gradient+=((1./X[:,0].size)*(sigmoid(X[i,:].dot(thet))-y[i])*X[i,:]).T\n",
    "    return gradient"
   ]
  },
  {
   "cell_type": "code",
   "execution_count": 348,
   "metadata": {},
   "outputs": [],
   "source": [
    "#Here we implement Newton's Method for a given number of iterations \n",
    "for iter in range(0,15):\n",
    "    hess = Hess_comp(X_new,y_new,Theta)\n",
    "    grad = Grad_comp(X_new,y_new,Theta)\n",
    "    Theta = Theta-(inv(hess).dot(grad))"
   ]
  },
  {
   "cell_type": "code",
   "execution_count": 349,
   "metadata": {
    "collapsed": true
   },
   "outputs": [],
   "source": [
    "#Now that we have our optimal Theta this function makes predictions for each training example and classifies them\n",
    "def predict(X,y,theta):\n",
    "    predictions = np.zeros((y.size,1))\n",
    "    for i in range(0,len(X)):\n",
    "        if(sigmoid(np.dot(X[i,:],theta))>=0.5):\n",
    "            predictions[i] = 1\n",
    "        else:\n",
    "            predictions[i] = 0\n",
    "    return predictions "
   ]
  },
  {
   "cell_type": "code",
   "execution_count": 350,
   "metadata": {
    "collapsed": true
   },
   "outputs": [],
   "source": [
    "#call the predict function to make the predictions based on optimal Theta values above \n",
    "predictions=predict(X_new,y_new,Theta)"
   ]
  },
  {
   "cell_type": "code",
   "execution_count": 351,
   "metadata": {},
   "outputs": [
    {
     "name": "stdout",
     "output_type": "stream",
     "text": [
      "Training Score: 96.15385%\n"
     ]
    }
   ],
   "source": [
    "#Here we compute our Training rate accuracy and see our classifier predicted 92.3% of our training data correctly \n",
    "from fractions import Fraction\n",
    "count=0\n",
    "for i in range(0,m):\n",
    "    if(predictions[i]==y_new[i]):\n",
    "        count+=1\n",
    "print(\"Training Score: {:.5f}%\".format(float(Fraction(count,m))*100))"
   ]
  },
  {
   "cell_type": "code",
   "execution_count": 352,
   "metadata": {},
   "outputs": [
    {
     "data": {
      "image/png": "[encoded data removed]",
      "text/plain": [
       "<matplotlib.figure.Figure at 0xda92320>"
      ]
     },
     "metadata": {},
     "output_type": "display_data"
    }
   ],
   "source": [
    "#This for loop goes over all our training data and plots each blue or red based on their predicted classes 0 and 1 respectively\n",
    "for i in range(0,m):\n",
    "    if(predictions[i]==1):\n",
    "        plt.scatter(X[i,0],X[i,1],color='blue')\n",
    "    else:\n",
    "        plt.scatter(X[i,0],X[i,1],color = 'red')\n",
    "plt.xlabel(\"Feature 1\")\n",
    "plt.ylabel(\"Feature 2\")\n",
    "plt.title(\"Logistic Regression\")\n",
    "plt.show()"
   ]
  },
  {
   "cell_type": "code",
   "execution_count": 380,
   "metadata": {},
   "outputs": [],
   "source": [
    "#Now we will use Logistic regression with Newton's method to classify breast cancer tumors as benign or malignent \n",
    "import sklearn\n",
    "#import dataset and split into train and test sets \n",
    "from sklearn.model_selection import train_test_split \n",
    "data=sklearn.datasets.load_breast_cancer()\n",
    "X_train, X_test, y_train, y_test = train_test_split(data['data'],data['target'],random_state=0)"
   ]
  },
  {
   "cell_type": "code",
   "execution_count": 381,
   "metadata": {},
   "outputs": [
    {
     "name": "stdout",
     "output_type": "stream",
     "text": [
      "[0 1 0]\n",
      "['malignant', 'benign']\n"
     ]
    }
   ],
   "source": [
    "print(data.target[[10, 50, 85]])\n",
    "print(list(data.target_names))"
   ]
  },
  {
   "cell_type": "code",
   "execution_count": 382,
   "metadata": {},
   "outputs": [
    {
     "name": "stdout",
     "output_type": "stream",
     "text": [
      "['target_names', 'data', 'target', 'DESCR', 'feature_names']\n"
     ]
    }
   ],
   "source": [
    "print(data.keys())"
   ]
  },
  {
   "cell_type": "code",
   "execution_count": 383,
   "metadata": {},
   "outputs": [
    {
     "name": "stdout",
     "output_type": "stream",
     "text": [
      "(426L, 31L)\n",
      "(31L, 1L)\n"
     ]
    }
   ],
   "source": [
    "col_ones = np.ones((len(X_train),1))\n",
    "X_train = np.append(col_ones,X_train,axis=1)\n",
    "y_train = np.asmatrix(y_train).T\n",
    "params = np.zeros((len(X_train[0,:]),1))\n",
    "print(X_train.shape)\n",
    "print(params.shape)"
   ]
  },
  {
   "cell_type": "code",
   "execution_count": 384,
   "metadata": {},
   "outputs": [],
   "source": [
    "for iterations in range(0,2):\n",
    "    Hess = Hess_comp(X_train,y_train,params)\n",
    "    Grad = Grad_comp(X_train,y_train,params)\n",
    "    params = params - (inv(Hess).dot(Grad))"
   ]
  },
  {
   "cell_type": "code",
   "execution_count": 385,
   "metadata": {},
   "outputs": [],
   "source": [
    "train_predictions=predict(X_train,y_train,params)"
   ]
  },
  {
   "cell_type": "code",
   "execution_count": 386,
   "metadata": {},
   "outputs": [],
   "source": [
    "#This function inputs our predictions and labels and outputs our training score\n",
    "def train_accuracy(Pred,Y):\n",
    "    from fractions import Fraction\n",
    "    count = 0 \n",
    "    for i in range(0,len(Pred)):\n",
    "        if(Pred[i]==Y[i]):\n",
    "            count+=1\n",
    "    print(\"Training Set Accuracy: {:.5f}%\".format(float(Fraction(count,len(Pred)))*100))"
   ]
  },
  {
   "cell_type": "code",
   "execution_count": 387,
   "metadata": {},
   "outputs": [
    {
     "name": "stdout",
     "output_type": "stream",
     "text": [
      "Training Set Accuracy: 96.94836%\n"
     ]
    }
   ],
   "source": [
    "train_accuracy(train_predictions,y_train)"
   ]
  },
  {
   "cell_type": "code",
   "execution_count": 388,
   "metadata": {},
   "outputs": [],
   "source": [
    "col_ones = np.zeros((len(X_test),1))\n",
    "X_test = np.append(col_ones,X_test,axis=1)\n",
    "y_test = np.asmatrix(y_test).T"
   ]
  },
  {
   "cell_type": "code",
   "execution_count": 389,
   "metadata": {},
   "outputs": [],
   "source": [
    "test_predictions = predict(X_test,y_test,params)"
   ]
  },
  {
   "cell_type": "code",
   "execution_count": 390,
   "metadata": {},
   "outputs": [
    {
     "name": "stdout",
     "output_type": "stream",
     "text": [
      "Training Set Accuracy: 37.06294%\n"
     ]
    }
   ],
   "source": [
    "train_accuracy(test_predictions,y_test)"
   ]
  },
  {
   "cell_type": "code",
   "execution_count": null,
   "metadata": {},
   "outputs": [],
   "source": []
  },
  {
   "cell_type": "code",
   "execution_count": null,
   "metadata": {},
   "outputs": [],
   "source": []
  },
  {
   "cell_type": "code",
   "execution_count": null,
   "metadata": {},
   "outputs": [],
   "source": []
  },
  {
   "cell_type": "code",
   "execution_count": null,
   "metadata": {},
   "outputs": [],
   "source": []
  },
  {
   "cell_type": "code",
   "execution_count": null,
   "metadata": {
    "collapsed": true
   },
   "outputs": [],
   "source": []
  }
 ],
 "metadata": {
  "kernelspec": {
   "display_name": "Python 2",
   "language": "python",
   "name": "python2"
  },
  "language_info": {
   "codemirror_mode": {
    "name": "ipython",
    "version": 2
   },
   "file_extension": ".py",
   "mimetype": "text/x-python",
   "name": "python",
   "nbconvert_exporter": "python",
   "pygments_lexer": "ipython2",
   "version": "2.7.13"
  }
 },
 "nbformat": 4,
 "nbformat_minor": 2
}
